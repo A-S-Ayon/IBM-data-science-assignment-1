{
  "metadata": {
    "kernelspec": {
      "name": "python",
      "display_name": "Python (Pyodide)",
      "language": "python"
    },
    "language_info": {
      "codemirror_mode": {
        "name": "python",
        "version": 3
      },
      "file_extension": ".py",
      "mimetype": "text/x-python",
      "name": "python",
      "nbconvert_exporter": "python",
      "pygments_lexer": "ipython3",
      "version": "3.8"
    }
  },
  "nbformat_minor": 5,
  "nbformat": 4,
  "cells": [
    {
      "id": "2eebed8a-0ed9-4505-bca6-bcbe5dd64773",
      "cell_type": "markdown",
      "source": "# Data Science Tools and Ecosystem\n\n",
      "metadata": {}
    },
    {
      "id": "3fbf2b01-9242-44ab-a562-93ef68cd1739",
      "cell_type": "markdown",
      "source": "__In this notebook data science tools and ecosystems are summarized__",
      "metadata": {}
    },
    {
      "id": "75c7fc69-7edf-4fae-bdb1-7cbf6c90e04c",
      "cell_type": "markdown",
      "source": "__Objectives__\n- some popular data science languages\n- data science tools\n- evaluating arithmatic expression in python\n",
      "metadata": {}
    },
    {
      "id": "0a211f95-b572-42d7-b6b9-11b58794b3ad",
      "cell_type": "markdown",
      "source": "__Some of the popular languages Data Scientists use are__",
      "metadata": {}
    },
    {
      "id": "0dbee953-d390-44d2-a177-0a9cbe2a013d",
      "cell_type": "markdown",
      "source": "1. Python\n2. SQL\n3. R",
      "metadata": {}
    },
    {
      "id": "d0851aad-177e-4365-aa7f-66250cf3095f",
      "cell_type": "markdown",
      "source": "|Data Science tools|\n|-------|\n|jupyer Lab|\n|Git and GitHub|\n|Pandas|\n|Maplotib|\n",
      "metadata": {}
    },
    {
      "id": "1389336d-a160-4830-800d-f6b62ccb86ba",
      "cell_type": "markdown",
      "source": "### Below are a few example of evaluating arithmatic expression in Python",
      "metadata": {}
    },
    {
      "id": "f5b0a6b0-0b4a-40e0-8321-8562bc8770b9",
      "cell_type": "code",
      "source": "(3*4)+5\n# this is a simple arithmatic expression to multiply and add numbers",
      "metadata": {
        "trusted": true
      },
      "outputs": [
        {
          "execution_count": 1,
          "output_type": "execute_result",
          "data": {
            "text/plain": "17"
          },
          "metadata": {}
        }
      ],
      "execution_count": 1
    },
    {
      "id": "e40437e2-84db-46f8-a0f8-d00ffbf1fb3b",
      "cell_type": "code",
      "source": "#This will convert 200 minute into hour by dividing it by 60\n200/60",
      "metadata": {
        "trusted": true
      },
      "outputs": [
        {
          "execution_count": 2,
          "output_type": "execute_result",
          "data": {
            "text/plain": "3.3333333333333335"
          },
          "metadata": {}
        }
      ],
      "execution_count": 2
    },
    {
      "id": "5691fdca-7400-4de7-aca9-f46aa14829fb",
      "cell_type": "markdown",
      "source": "__Auther:__ Animesh Singha Ayon ",
      "metadata": {}
    },
    {
      "id": "3d933e1b-ede1-44c4-8817-241969b3448d",
      "cell_type": "code",
      "source": "",
      "metadata": {
        "trusted": true
      },
      "outputs": [],
      "execution_count": null
    }
  ]
}